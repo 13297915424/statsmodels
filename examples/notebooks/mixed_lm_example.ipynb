{
 "metadata": {
  "name": "",
  "signature": "sha256:53b2f571a2d88298515c618465d83ee76787eaefbb02469584f427635185f180"
 },
 "nbformat": 3,
 "nbformat_minor": 0,
 "worksheets": [
  {
   "cells": [
    {
     "cell_type": "markdown",
     "metadata": {},
     "source": [
      "Comparing R lmer to Statsmodels MixedLM\n",
      "=======================================\n",
      "\n",
      "The Statsmodels imputation of linear mixed models (MixedLM) closely follows the approach outlined in Lindstrom and Bates (JASA 1988).  This is also the approach followed in the  R package LME4.  Other packages such as Stata, SAS, etc. should also be consistent with this approach, as the basic techniques in this area are mostly mature.\n",
      "\n",
      "Here we show how linear mixed models can be fit using the MixedLM procedure in Statsmodels.  Results from R (LME4) are included for comparison.  \n",
      "\n",
      "Here are our import statements:"
     ]
    },
    {
     "cell_type": "code",
     "collapsed": false,
     "input": [
      "import numpy as np\n",
      "import pandas as pd\n",
      "from statsmodels.regression.lme import MixedLM"
     ],
     "language": "python",
     "metadata": {},
     "outputs": []
    },
    {
     "cell_type": "markdown",
     "metadata": {},
     "source": [
      "## Growth curves of pigs\n",
      "\n",
      "These are longitudinal data from a factorial experiment. The outcome variable is the weight of each pig, and the only predictor variable we will use here is \"time\".  First we fit a model that expresses the mean weight as a linear function of time, with a random intercept for each pig. The model is specified using formulas. Since the random effects structure is not specified, the default random effects structure (a random intercept for each group) is automatically used. "
     ]
    },
    {
     "cell_type": "code",
     "collapsed": false,
     "input": [
      "data = pd.read_csv(\"http://vincentarelbundock.github.io/Rdatasets/csv/geepack/dietox.csv\")\n",
      "md = MixedLM.from_formula(\"Weight ~ Time\", data, groups=data[\"Pig\"])\n",
      "mdf = md.fit()\n",
      "print mdf.summary()"
     ],
     "language": "python",
     "metadata": {},
     "outputs": []
    },
    {
     "cell_type": "markdown",
     "metadata": {},
     "source": [
      "Here is the same model fit in R using LMER:"
     ]
    },
    {
     "cell_type": "markdown",
     "metadata": {},
     "source": [
      "    Linear mixed model fit by REML \n",
      "    Formula: Weight ~ Time + (1 | Pig) \n",
      "       Data: data \n",
      "      AIC  BIC logLik deviance REMLdev\n",
      "     4818 4837  -2405     4806    4810\n",
      "    Random effects:\n",
      "     Groups   Name        Variance Std.Dev.\n",
      "     Pig      (Intercept) 40.394   6.3556  \n",
      "     Residual             11.367   3.3715  \n",
      "    Number of obs: 861, groups: Pig, 72\n",
      "    Fixed effects:\n",
      "                Estimate Std. Error t value\n",
      "    (Intercept) 15.72352    0.78805   19.95\n",
      "    Time         6.94251    0.03339  207.94\n",
      "    Correlation of Fixed Effects:\n",
      "         (Intr)\n",
      "    Time -0.275"
     ]
    },
    {
     "cell_type": "markdown",
     "metadata": {},
     "source": [
      "Note that in the Statsmodels summary of results, the fixed effects and random effects parameter estimates are shown in a single table.  The random effect for animal is labeled \"Z1 RE\" in the Statmodels output above.  In the LME4 output, this effect is the pig intercept under the random effects section.\n",
      "\n",
      "There has been a lot of debate about whether the standard errors for random effect variance and covariance parameters are useful.  In LME4, these standard errors are not displayed, because the authors of the package believe they are not very informative.  While there is good reason to question their utility, we elected to include the standard errors in the summary table, but do not show the corresponding Wald confidence intervals.\n",
      "\n",
      "Next we fit a model with two random effects for each animal: a random intercept, and a random slope (with respect to time).  This means that each pig may have a different baseline weight, as well as growing at a different rate. The formula specifies that \"Time\" is a covariate with a random coefficient.  By default, formulas always include an intercept (which could be suppressed here using \"0 + Time\" as the formula)."
     ]
    },
    {
     "cell_type": "code",
     "collapsed": false,
     "input": [
      "md = MixedLM.from_formula(\"Weight ~ Time\", data, groups=data[\"Pig\"])\n",
      "md.set_random(\"Time\", data)\n",
      "mdf = md.fit()\n",
      "print mdf.summary()"
     ],
     "language": "python",
     "metadata": {},
     "outputs": []
    },
    {
     "cell_type": "markdown",
     "metadata": {},
     "source": [
      "Here is the same model fit using LMER in R:"
     ]
    },
    {
     "cell_type": "markdown",
     "metadata": {},
     "source": [
      "    Linear mixed model fit by REML \n",
      "    Formula: Weight ~ Time + (1 + Time | Pig) \n",
      "       Data: data \n",
      "      AIC  BIC logLik deviance REMLdev\n",
      "     4446 4475  -2217     4432    4434\n",
      "    Random effects:\n",
      "     Groups   Name        Variance Std.Dev. Corr  \n",
      "     Pig      (Intercept) 19.49346 4.41514        \n",
      "              Time         0.41606 0.64503  0.103 \n",
      "     Residual              6.03745 2.45712        \n",
      "    Number of obs: 861, groups: Pig, 72\n",
      "    Fixed effects:\n",
      "                Estimate Std. Error t value\n",
      "    (Intercept) 15.73865    0.55013   28.61\n",
      "    Time         6.93901    0.07982   86.93\n",
      "    Correlation of Fixed Effects:\n",
      "         (Intr)\n",
      "    Time 0.005 "
     ]
    },
    {
     "cell_type": "markdown",
     "metadata": {},
     "source": [
      "The random intercept and random slope are only weakly correlated (0.294 / sqrt(19.493 * 0.416) ~ 0.1).  So next we fit a model in which the two random effects are constrained to be uncorrelated:"
     ]
    },
    {
     "cell_type": "code",
     "collapsed": false,
     "input": [
      "md = MixedLM.from_formula(\"Weight ~ Time\", data, groups=data[\"Pig\"])\n",
      "md.set_random(\"Time\", data)\n",
      "mdf = md.fit(free=(np.ones(2), np.eye(2)))\n",
      "print mdf.summary()"
     ],
     "language": "python",
     "metadata": {},
     "outputs": []
    },
    {
     "cell_type": "markdown",
     "metadata": {},
     "source": [
      "The likelihood drops by 0.3 when we fix the correlation parameter to 0.  Comparing 2 x 0.3 = 0.6 to the chi^2 1 df reference distribution suggests that the data are very consistent with a model in which this parameter is equal to 0.  \n",
      "\n",
      "Here is the same model fit using LMER in R (note that here R is reporting the REML criterion instead of the likelihood, where the REML criterion is twice the log likeihood):"
     ]
    },
    {
     "cell_type": "markdown",
     "metadata": {},
     "source": [
      "    Linear mixed model fit by REML ['lmerMod']\n",
      "    Formula: Weight ~ Time + (1 | Pig) + (0 + Time | Pig)\n",
      "       Data: data\n",
      "    REML criterion at convergence: 4434.7\n",
      "    Scaled residuals: \n",
      "        Min      1Q  Median      3Q     Max \n",
      "    -6.4281 -0.5527 -0.0405  0.4840  3.5661 \n",
      "    Random effects:\n",
      "     Groups   Name        Variance Std.Dev.\n",
      "     Pig      (Intercept) 19.8409  4.4543  \n",
      "     Pig.1    Time         0.4234  0.6507  \n",
      "     Residual              6.0282  2.4552  \n",
      "    Number of obs: 861, groups: Pig, 72\n",
      "    Fixed effects:\n",
      "                Estimate Std. Error t value\n",
      "    (Intercept) 15.73875    0.55445   28.39\n",
      "    Time         6.93899    0.08045   86.25\n",
      "    Correlation of Fixed Effects:\n",
      "         (Intr)\n",
      "    Time -0.086"
     ]
    },
    {
     "cell_type": "markdown",
     "metadata": {},
     "source": [
      "## Sitka growth data\n",
      "\n",
      "This is one of the example data sets provided in the LMER R library.  The outcome variable is the size of the tree, and the covariate used here is a time value.  The data are grouped by tree."
     ]
    },
    {
     "cell_type": "code",
     "collapsed": false,
     "input": [
      "data = pd.read_csv(\"http://vincentarelbundock.github.io/Rdatasets/csv/MASS/Sitka.csv\")\n",
      "endog = data[\"size\"]\n",
      "exog = np.ones((data.shape[0], 2), dtype=np.float64)\n",
      "exog[:,1] = data[\"Time\"]\n",
      "exog = pd.DataFrame(data=exog)\n",
      "exog.columns = [\"Intercept\", \"Time\"]"
     ],
     "language": "python",
     "metadata": {},
     "outputs": []
    },
    {
     "cell_type": "markdown",
     "metadata": {},
     "source": [
      "Here is the statsmodels LME fit for a basic model with a random intercept.  We are passing the endog and exog data directly to the LME init function as arrays.  Also note that endog_re is specified explicitly in argument 4 as a random intercept (although this would also be the default if it were not specified)."
     ]
    },
    {
     "cell_type": "code",
     "collapsed": false,
     "input": [
      "md = MixedLM(endog, exog, data[\"tree\"], exog.iloc[:,0])\n",
      "mdf = md.fit()\n",
      "print mdf.summary()"
     ],
     "language": "python",
     "metadata": {},
     "outputs": []
    },
    {
     "cell_type": "markdown",
     "metadata": {},
     "source": [
      "Here is the same model fit in R using LMER:"
     ]
    },
    {
     "cell_type": "markdown",
     "metadata": {},
     "source": [
      "    Linear mixed model fit by REML \n",
      "    Formula: size ~ Time + (1 | tree) \n",
      "       Data: Sitka \n",
      "       AIC   BIC logLik deviance REMLdev\n",
      "     172.8 188.7 -82.39    146.6   164.8\n",
      "    Random effects:\n",
      "     Groups   Name        Variance Std.Dev.\n",
      "     tree     (Intercept) 0.374512 0.61197 \n",
      "     Residual             0.039206 0.19800 \n",
      "    Number of obs: 395, groups: tree, 79\n",
      "    Fixed effects:\n",
      "                 Estimate Std. Error t value\n",
      "    (Intercept) 2.2732443  0.0878948   25.86\n",
      "    Time        0.0126855  0.0002654   47.80\n",
      "    Correlation of Fixed Effects:\n",
      "         (Intr)\n",
      "    Time -0.611"
     ]
    },
    {
     "cell_type": "markdown",
     "metadata": {},
     "source": [
      "We can now try to add a random slope.  We start with R this time.  From the code and output below we see that the REML estimate of the variance of the random slope is nearly zero."
     ]
    },
    {
     "cell_type": "markdown",
     "metadata": {},
     "source": [
      "    Linear mixed model fit by REML \n",
      "    Formula: size ~ Time + (1 + Time | tree) \n",
      "       Data: Sitka \n",
      "       AIC   BIC logLik deviance REMLdev\n",
      "     176.6 200.4 -82.28    146.4   164.6\n",
      "    Random effects:\n",
      "     Groups   Name        Variance   Std.Dev.   Corr  \n",
      "     tree     (Intercept) 3.4418e-01 0.58666576       \n",
      "              Time        1.5640e-08 0.00012506 1.000 \n",
      "     Residual             3.9179e-02 0.19793693       \n",
      "    Number of obs: 395, groups: tree, 79\n",
      "    Fixed effects:\n",
      "                 Estimate Std. Error t value\n",
      "    (Intercept) 2.2732443  0.0856713   26.53\n",
      "    Time        0.0126855  0.0002657   47.75\n",
      "    Correlation of Fixed Effects:\n",
      "         (Intr)\n",
      "    Time -0.585"
     ]
    },
    {
     "cell_type": "markdown",
     "metadata": {},
     "source": [
      "If we run this in statsmodels LME with defaults, we see that the variance estimate is indeed very small, which leads to a warning about the solution being on the boundary of the parameter space.  The regression slopes agree very well with R, but the likelihood value is much higher than that returned by R."
     ]
    },
    {
     "cell_type": "code",
     "collapsed": false,
     "input": [
      "exog_re = np.asarray(exog.copy())\n",
      "md = MixedLM(endog, exog, data[\"tree\"], exog_re)\n",
      "mdf = md.fit()\n",
      "print mdf.summary()"
     ],
     "language": "python",
     "metadata": {},
     "outputs": []
    },
    {
     "cell_type": "markdown",
     "metadata": {},
     "source": [
      "We can investigate this variance parameter further by constructing a profile likelihood.  Some convergence warnings may be generated due to the difficulty of optimizing close to the boundary of the parameter space."
     ]
    },
    {
     "cell_type": "code",
     "collapsed": false,
     "input": [
      "likev = mdf.profile_re(1, dist_low=0.01, dist_high=0.01)"
     ],
     "language": "python",
     "metadata": {},
     "outputs": []
    },
    {
     "cell_type": "markdown",
     "metadata": {},
     "source": [
      "Here is a plot of the profile likelihood function.  We multiply the log-likelihood difference by 2 to obtain the usual chi^2 reference distribution with 1 degree of freedom.  The profile likelihood plot shows that the MLE of the random slope variance parameter is a very small possitive number, and that there is low uncertainty in this estimate.  Note that the log-likeilihood for the model with the variance of the random slope set to zero (as calculated above), is -82, which would appear on this plot as -164.  Extrapolating the curve to the left is consistent with this point.  It appears that lmer is not fully optimizing the likeihood in this case."
     ]
    },
    {
     "cell_type": "code",
     "collapsed": false,
     "input": [
      "plt.figure(figsize=(10,8))\n",
      "plt.plot(likev[:,0], 2*likev[:,1])\n",
      "plt.xlabel(\"Variance of random slope\", size=17)\n",
      "plt.ylabel(\"-2 times profile log likelihood\", size=17)"
     ],
     "language": "python",
     "metadata": {},
     "outputs": []
    }
   ],
   "metadata": {}
  }
 ]
}